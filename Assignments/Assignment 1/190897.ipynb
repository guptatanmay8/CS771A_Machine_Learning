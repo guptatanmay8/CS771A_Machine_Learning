{
 "cells": [
  {
   "cell_type": "code",
   "execution_count": 400,
   "source": [
    "import pandas as pd\n",
    "import numpy as np\n",
    "from numpy import linalg as lin\n",
    "from matplotlib import pyplot as plt\n"
   ],
   "outputs": [],
   "metadata": {}
  },
  {
   "cell_type": "code",
   "execution_count": 401,
   "source": [
    "#contains all the column names to be assigned\n",
    "colnames = [\"symboling\",\"normalized-losses\" , \"make\" ,\"fuel-type\" , \"aspiration\", \"num-of-doors\", \"body-style\", \"drive-wheels\", \"engine-location\", \"wheel-base\", \"length\", \"width\", \"height\", \"curb-weight\", \"engine-type\", \"num-of-cylinders\", \"engine-size\", \"fuel-system\", \"bore\", \"stroke\", \"compression-ratio\", \"horsepower\", \"peak-rpm\", \"city-mpg\", \"highway-mpg\", \"price\"]\n",
    "\n",
    "#reading the data and giving each columns heading using colnames\n",
    "data = pd.read_csv('imports-85.data', sep=',', names = colnames)"
   ],
   "outputs": [],
   "metadata": {}
  },
  {
   "cell_type": "code",
   "execution_count": 402,
   "source": [
    "#replacing '?' by NaN so as to recoganize them as empty\n",
    "data.replace(to_replace = '?',value = np.nan, inplace=True)"
   ],
   "outputs": [],
   "metadata": {}
  },
  {
   "cell_type": "code",
   "execution_count": 403,
   "source": [
    "#this contains names of all the numeric/continous columns\n",
    "cont_cols = ['normalized-losses', 'wheel-base','length', 'width', 'height', 'curb-weight', 'engine-size', 'bore', 'stroke', 'compression-ratio', 'horsepower', 'peak-rpm', 'city-mpg', 'highway-mpg', 'price']\n",
    "#The ones which are not continous are nominal\n",
    "nominal_cols = [x for x in colnames if x not in cont_cols]\n",
    "\n",
    "#converting the datatype of all the numeric columns to numeric\n",
    "for col in cont_cols:\n",
    "    data[col] = pd.to_numeric(data[col])\n"
   ],
   "outputs": [],
   "metadata": {}
  },
  {
   "cell_type": "code",
   "execution_count": 404,
   "source": [
    "#droping the rows which contains '?' in the nominal/categorical features\n",
    "data.dropna(subset = (nominal_cols + ['price']), inplace = True)"
   ],
   "outputs": [],
   "metadata": {}
  },
  {
   "cell_type": "code",
   "execution_count": 405,
   "source": [
    "#filling the numeric feature values with its mean so as to preserve data\n",
    "data.fillna(data.mean(), inplace = True)\n"
   ],
   "outputs": [],
   "metadata": {}
  },
  {
   "cell_type": "code",
   "execution_count": 406,
   "source": [
    "#normalizing the numeric data\n",
    "for col in cont_cols[:-1]:\n",
    "    data[col] = (data[col] - data[col].min()) / (data[col].max() - data[col].min())"
   ],
   "outputs": [],
   "metadata": {}
  },
  {
   "cell_type": "code",
   "execution_count": 407,
   "source": [
    "shuffled_data = data.sample(frac = 1, random_state = 1)\n",
    "# shuffled_data"
   ],
   "outputs": [],
   "metadata": {}
  },
  {
   "cell_type": "code",
   "execution_count": 408,
   "source": [
    "#splitting the dataset into training and testing dataset\n",
    "\n",
    "training_size = int(0.9*len(data))\n",
    "\n",
    "train_data = shuffled_data[0:training_size].reset_index()\n",
    "test_data = shuffled_data[training_size:].reset_index()\n",
    "\n",
    "train_data = train_data.drop('index', axis = 1)\n",
    "test_data = test_data.drop('index', axis = 1)\n"
   ],
   "outputs": [],
   "metadata": {}
  },
  {
   "cell_type": "code",
   "execution_count": 409,
   "source": [
    "#Splitting training and test dataset into \n",
    "\n",
    "X_train = train_data.drop('price', axis = 1)\n",
    "Y_train = train_data['price']\n",
    "X_test = test_data.drop('price', axis = 1)\n",
    "Y_test = test_data['price']\n"
   ],
   "outputs": [],
   "metadata": {}
  },
  {
   "cell_type": "code",
   "execution_count": 430,
   "source": [
    "#applying the kNN model\n",
    "#initially diff contains the difference of all the cont columns\n",
    "#then we concatenate it with each of the nominal column\n",
    "#finally we get the L2 norm of the difference and sorted it according to the nearest neighbour\n",
    "def kNN(x):\n",
    "    diff = X_train[cont_cols[:-1]] - x[cont_cols[:-1]]\n",
    "    for col in nominal_cols:\n",
    "        diff_col = (X_train[col] != x[col])\n",
    "        diff = pd.concat([diff, diff_col], axis=1)\n",
    "    diff = diff.astype(float)\n",
    "    dist = lin.norm(diff, 2, axis=1)\n",
    "    idx = np.argsort(dist)\n",
    "    y_pred = 0\n",
    "    for i in range(k):\n",
    "        y_pred += Y_train[idx[i]]\n",
    "    return y_pred / k"
   ],
   "outputs": [],
   "metadata": {}
  },
  {
   "cell_type": "code",
   "execution_count": 427,
   "source": [
    "k = 1"
   ],
   "outputs": [],
   "metadata": {}
  },
  {
   "cell_type": "code",
   "execution_count": 428,
   "source": [
    "#calculating root mean squared error\n",
    "def rmse(y_pred):\n",
    "    diff = Y_test - y_pred\n",
    "    return lin.norm(diff, 2)\n",
    "\n",
    "#applying kNN model\n",
    "def test():\n",
    "    y_pred = X_test.apply(kNN, axis=1)\n",
    "    return rmse(y_pred)\n",
    "\n",
    "test()\n",
    "\n"
   ],
   "outputs": [
    {
     "output_type": "execute_result",
     "data": {
      "text/plain": [
       "6066.935140579632"
      ]
     },
     "metadata": {},
     "execution_count": 428
    }
   ],
   "metadata": {}
  },
  {
   "cell_type": "code",
   "execution_count": 367,
   "source": [
    "#printing RMSE for different values of K\n",
    "for k in range(1, 50):\n",
    "    print(f'k = {k}, RMSE = {test()}')"
   ],
   "outputs": [
    {
     "output_type": "stream",
     "name": "stdout",
     "text": [
      "k = 1, RMSE = 6066.935140579632\n",
      "k = 2, RMSE = 7226.618832483141\n",
      "k = 3, RMSE = 7721.385778040968\n",
      "k = 4, RMSE = 8126.2419896899455\n",
      "k = 5, RMSE = 7319.006156576178\n",
      "k = 6, RMSE = 6342.807917458779\n",
      "k = 7, RMSE = 6518.7847809548175\n",
      "k = 8, RMSE = 6752.321497779486\n",
      "k = 9, RMSE = 7674.893889965008\n",
      "k = 10, RMSE = 7524.5007482224355\n",
      "k = 11, RMSE = 7391.317168092494\n",
      "k = 12, RMSE = 7161.337158368771\n",
      "k = 13, RMSE = 7183.766832611247\n",
      "k = 14, RMSE = 7674.272957985888\n",
      "k = 15, RMSE = 7691.3756035936485\n",
      "k = 16, RMSE = 7511.492527079755\n",
      "k = 17, RMSE = 7202.096898133474\n",
      "k = 18, RMSE = 7061.9730186872475\n",
      "k = 19, RMSE = 6906.746602932462\n",
      "k = 20, RMSE = 6387.345960960624\n",
      "k = 21, RMSE = 6314.235817514553\n",
      "k = 22, RMSE = 6293.165417096721\n",
      "k = 23, RMSE = 6322.81011037588\n",
      "k = 24, RMSE = 6259.882832342214\n",
      "k = 25, RMSE = 6435.383807419726\n",
      "k = 26, RMSE = 6438.679943451234\n",
      "k = 27, RMSE = 6430.772708703159\n",
      "k = 28, RMSE = 6548.451800982879\n",
      "k = 29, RMSE = 6602.514923324517\n",
      "k = 30, RMSE = 6727.250135662994\n",
      "k = 31, RMSE = 6949.685351354433\n",
      "k = 32, RMSE = 7128.809590166619\n",
      "k = 33, RMSE = 7267.941242504615\n",
      "k = 34, RMSE = 7421.17976355815\n",
      "k = 35, RMSE = 7443.5019286925\n",
      "k = 36, RMSE = 7528.70019338344\n",
      "k = 37, RMSE = 7705.0033076898835\n",
      "k = 38, RMSE = 7877.402727329095\n",
      "k = 39, RMSE = 8034.695116353499\n",
      "k = 40, RMSE = 7869.6480451399475\n",
      "k = 41, RMSE = 7986.140837693541\n",
      "k = 42, RMSE = 8123.9854036325905\n",
      "k = 43, RMSE = 8199.323436156697\n",
      "k = 44, RMSE = 8304.533705084488\n",
      "k = 45, RMSE = 8550.005275747417\n",
      "k = 46, RMSE = 8521.945177938222\n",
      "k = 47, RMSE = 8582.095013499524\n",
      "k = 48, RMSE = 8625.228405792124\n",
      "k = 49, RMSE = 8748.59640535117\n"
     ]
    }
   ],
   "metadata": {}
  },
  {
   "cell_type": "code",
   "execution_count": 370,
   "source": [
    "#plotting the error/loss function\n",
    "error = []\n",
    "K_MAX = 50\n",
    "min_error = 1e9\n",
    "k_min_error =0\n",
    "for k in range(1, K_MAX):\n",
    "  l = test()\n",
    "  error.append(l)\n",
    "  if l <min_error:\n",
    "    k_min_error = k\n",
    "    min_error = l\n",
    "plt.plot(range(1, K_MAX), error)"
   ],
   "outputs": [
    {
     "output_type": "stream",
     "name": "stdout",
     "text": [
      "1\n"
     ]
    },
    {
     "output_type": "display_data",
     "data": {
      "text/plain": [
       "<Figure size 432x288 with 1 Axes>"
      ],
      "image/svg+xml": "<?xml version=\"1.0\" encoding=\"utf-8\" standalone=\"no\"?>\n<!DOCTYPE svg PUBLIC \"-//W3C//DTD SVG 1.1//EN\"\n  \"http://www.w3.org/Graphics/SVG/1.1/DTD/svg11.dtd\">\n<!-- Created with matplotlib (https://matplotlib.org/) -->\n<svg height=\"248.518125pt\" version=\"1.1\" viewBox=\"0 0 381.65 248.518125\" width=\"381.65pt\" xmlns=\"http://www.w3.org/2000/svg\" xmlns:xlink=\"http://www.w3.org/1999/xlink\">\n <defs>\n  <style type=\"text/css\">\n*{stroke-linecap:butt;stroke-linejoin:round;}\n  </style>\n </defs>\n <g id=\"figure_1\">\n  <g id=\"patch_1\">\n   <path d=\"M -0 248.518125 \nL 381.65 248.518125 \nL 381.65 0 \nL -0 0 \nz\n\" style=\"fill:none;\"/>\n  </g>\n  <g id=\"axes_1\">\n   <g id=\"patch_2\">\n    <path d=\"M 39.65 224.64 \nL 374.45 224.64 \nL 374.45 7.2 \nL 39.65 7.2 \nz\n\" style=\"fill:#ffffff;\"/>\n   </g>\n   <g id=\"matplotlib.axis_1\">\n    <g id=\"xtick_1\">\n     <g id=\"line2d_1\">\n      <defs>\n       <path d=\"M 0 0 \nL 0 3.5 \n\" id=\"m54e200a7ed\" style=\"stroke:#000000;stroke-width:0.8;\"/>\n      </defs>\n      <g>\n       <use style=\"stroke:#000000;stroke-width:0.8;\" x=\"48.527273\" xlink:href=\"#m54e200a7ed\" y=\"224.64\"/>\n      </g>\n     </g>\n     <g id=\"text_1\">\n      <!-- 0 -->\n      <defs>\n       <path d=\"M 31.78125 66.40625 \nQ 24.171875 66.40625 20.328125 58.90625 \nQ 16.5 51.421875 16.5 36.375 \nQ 16.5 21.390625 20.328125 13.890625 \nQ 24.171875 6.390625 31.78125 6.390625 \nQ 39.453125 6.390625 43.28125 13.890625 \nQ 47.125 21.390625 47.125 36.375 \nQ 47.125 51.421875 43.28125 58.90625 \nQ 39.453125 66.40625 31.78125 66.40625 \nz\nM 31.78125 74.21875 \nQ 44.046875 74.21875 50.515625 64.515625 \nQ 56.984375 54.828125 56.984375 36.375 \nQ 56.984375 17.96875 50.515625 8.265625 \nQ 44.046875 -1.421875 31.78125 -1.421875 \nQ 19.53125 -1.421875 13.0625 8.265625 \nQ 6.59375 17.96875 6.59375 36.375 \nQ 6.59375 54.828125 13.0625 64.515625 \nQ 19.53125 74.21875 31.78125 74.21875 \nz\n\" id=\"DejaVuSans-48\"/>\n      </defs>\n      <g transform=\"translate(45.346023 239.238437)scale(0.1 -0.1)\">\n       <use xlink:href=\"#DejaVuSans-48\"/>\n      </g>\n     </g>\n    </g>\n    <g id=\"xtick_2\">\n     <g id=\"line2d_2\">\n      <g>\n       <use style=\"stroke:#000000;stroke-width:0.8;\" x=\"111.936364\" xlink:href=\"#m54e200a7ed\" y=\"224.64\"/>\n      </g>\n     </g>\n     <g id=\"text_2\">\n      <!-- 10 -->\n      <defs>\n       <path d=\"M 12.40625 8.296875 \nL 28.515625 8.296875 \nL 28.515625 63.921875 \nL 10.984375 60.40625 \nL 10.984375 69.390625 \nL 28.421875 72.90625 \nL 38.28125 72.90625 \nL 38.28125 8.296875 \nL 54.390625 8.296875 \nL 54.390625 0 \nL 12.40625 0 \nz\n\" id=\"DejaVuSans-49\"/>\n      </defs>\n      <g transform=\"translate(105.573864 239.238437)scale(0.1 -0.1)\">\n       <use xlink:href=\"#DejaVuSans-49\"/>\n       <use x=\"63.623047\" xlink:href=\"#DejaVuSans-48\"/>\n      </g>\n     </g>\n    </g>\n    <g id=\"xtick_3\">\n     <g id=\"line2d_3\">\n      <g>\n       <use style=\"stroke:#000000;stroke-width:0.8;\" x=\"175.345455\" xlink:href=\"#m54e200a7ed\" y=\"224.64\"/>\n      </g>\n     </g>\n     <g id=\"text_3\">\n      <!-- 20 -->\n      <defs>\n       <path d=\"M 19.1875 8.296875 \nL 53.609375 8.296875 \nL 53.609375 0 \nL 7.328125 0 \nL 7.328125 8.296875 \nQ 12.9375 14.109375 22.625 23.890625 \nQ 32.328125 33.6875 34.8125 36.53125 \nQ 39.546875 41.84375 41.421875 45.53125 \nQ 43.3125 49.21875 43.3125 52.78125 \nQ 43.3125 58.59375 39.234375 62.25 \nQ 35.15625 65.921875 28.609375 65.921875 \nQ 23.96875 65.921875 18.8125 64.3125 \nQ 13.671875 62.703125 7.8125 59.421875 \nL 7.8125 69.390625 \nQ 13.765625 71.78125 18.9375 73 \nQ 24.125 74.21875 28.421875 74.21875 \nQ 39.75 74.21875 46.484375 68.546875 \nQ 53.21875 62.890625 53.21875 53.421875 \nQ 53.21875 48.921875 51.53125 44.890625 \nQ 49.859375 40.875 45.40625 35.40625 \nQ 44.1875 33.984375 37.640625 27.21875 \nQ 31.109375 20.453125 19.1875 8.296875 \nz\n\" id=\"DejaVuSans-50\"/>\n      </defs>\n      <g transform=\"translate(168.982955 239.238437)scale(0.1 -0.1)\">\n       <use xlink:href=\"#DejaVuSans-50\"/>\n       <use x=\"63.623047\" xlink:href=\"#DejaVuSans-48\"/>\n      </g>\n     </g>\n    </g>\n    <g id=\"xtick_4\">\n     <g id=\"line2d_4\">\n      <g>\n       <use style=\"stroke:#000000;stroke-width:0.8;\" x=\"238.754545\" xlink:href=\"#m54e200a7ed\" y=\"224.64\"/>\n      </g>\n     </g>\n     <g id=\"text_4\">\n      <!-- 30 -->\n      <defs>\n       <path d=\"M 40.578125 39.3125 \nQ 47.65625 37.796875 51.625 33 \nQ 55.609375 28.21875 55.609375 21.1875 \nQ 55.609375 10.40625 48.1875 4.484375 \nQ 40.765625 -1.421875 27.09375 -1.421875 \nQ 22.515625 -1.421875 17.65625 -0.515625 \nQ 12.796875 0.390625 7.625 2.203125 \nL 7.625 11.71875 \nQ 11.71875 9.328125 16.59375 8.109375 \nQ 21.484375 6.890625 26.8125 6.890625 \nQ 36.078125 6.890625 40.9375 10.546875 \nQ 45.796875 14.203125 45.796875 21.1875 \nQ 45.796875 27.640625 41.28125 31.265625 \nQ 36.765625 34.90625 28.71875 34.90625 \nL 20.21875 34.90625 \nL 20.21875 43.015625 \nL 29.109375 43.015625 \nQ 36.375 43.015625 40.234375 45.921875 \nQ 44.09375 48.828125 44.09375 54.296875 \nQ 44.09375 59.90625 40.109375 62.90625 \nQ 36.140625 65.921875 28.71875 65.921875 \nQ 24.65625 65.921875 20.015625 65.03125 \nQ 15.375 64.15625 9.8125 62.3125 \nL 9.8125 71.09375 \nQ 15.4375 72.65625 20.34375 73.4375 \nQ 25.25 74.21875 29.59375 74.21875 \nQ 40.828125 74.21875 47.359375 69.109375 \nQ 53.90625 64.015625 53.90625 55.328125 \nQ 53.90625 49.265625 50.4375 45.09375 \nQ 46.96875 40.921875 40.578125 39.3125 \nz\n\" id=\"DejaVuSans-51\"/>\n      </defs>\n      <g transform=\"translate(232.392045 239.238437)scale(0.1 -0.1)\">\n       <use xlink:href=\"#DejaVuSans-51\"/>\n       <use x=\"63.623047\" xlink:href=\"#DejaVuSans-48\"/>\n      </g>\n     </g>\n    </g>\n    <g id=\"xtick_5\">\n     <g id=\"line2d_5\">\n      <g>\n       <use style=\"stroke:#000000;stroke-width:0.8;\" x=\"302.163636\" xlink:href=\"#m54e200a7ed\" y=\"224.64\"/>\n      </g>\n     </g>\n     <g id=\"text_5\">\n      <!-- 40 -->\n      <defs>\n       <path d=\"M 37.796875 64.3125 \nL 12.890625 25.390625 \nL 37.796875 25.390625 \nz\nM 35.203125 72.90625 \nL 47.609375 72.90625 \nL 47.609375 25.390625 \nL 58.015625 25.390625 \nL 58.015625 17.1875 \nL 47.609375 17.1875 \nL 47.609375 0 \nL 37.796875 0 \nL 37.796875 17.1875 \nL 4.890625 17.1875 \nL 4.890625 26.703125 \nz\n\" id=\"DejaVuSans-52\"/>\n      </defs>\n      <g transform=\"translate(295.801136 239.238437)scale(0.1 -0.1)\">\n       <use xlink:href=\"#DejaVuSans-52\"/>\n       <use x=\"63.623047\" xlink:href=\"#DejaVuSans-48\"/>\n      </g>\n     </g>\n    </g>\n    <g id=\"xtick_6\">\n     <g id=\"line2d_6\">\n      <g>\n       <use style=\"stroke:#000000;stroke-width:0.8;\" x=\"365.572727\" xlink:href=\"#m54e200a7ed\" y=\"224.64\"/>\n      </g>\n     </g>\n     <g id=\"text_6\">\n      <!-- 50 -->\n      <defs>\n       <path d=\"M 10.796875 72.90625 \nL 49.515625 72.90625 \nL 49.515625 64.59375 \nL 19.828125 64.59375 \nL 19.828125 46.734375 \nQ 21.96875 47.46875 24.109375 47.828125 \nQ 26.265625 48.1875 28.421875 48.1875 \nQ 40.625 48.1875 47.75 41.5 \nQ 54.890625 34.8125 54.890625 23.390625 \nQ 54.890625 11.625 47.5625 5.09375 \nQ 40.234375 -1.421875 26.90625 -1.421875 \nQ 22.3125 -1.421875 17.546875 -0.640625 \nQ 12.796875 0.140625 7.71875 1.703125 \nL 7.71875 11.625 \nQ 12.109375 9.234375 16.796875 8.0625 \nQ 21.484375 6.890625 26.703125 6.890625 \nQ 35.15625 6.890625 40.078125 11.328125 \nQ 45.015625 15.765625 45.015625 23.390625 \nQ 45.015625 31 40.078125 35.4375 \nQ 35.15625 39.890625 26.703125 39.890625 \nQ 22.75 39.890625 18.8125 39.015625 \nQ 14.890625 38.140625 10.796875 36.28125 \nz\n\" id=\"DejaVuSans-53\"/>\n      </defs>\n      <g transform=\"translate(359.210227 239.238437)scale(0.1 -0.1)\">\n       <use xlink:href=\"#DejaVuSans-53\"/>\n       <use x=\"63.623047\" xlink:href=\"#DejaVuSans-48\"/>\n      </g>\n     </g>\n    </g>\n   </g>\n   <g id=\"matplotlib.axis_2\">\n    <g id=\"ytick_1\">\n     <g id=\"line2d_7\">\n      <defs>\n       <path d=\"M 0 0 \nL -3.5 0 \n\" id=\"mcc2512ee7d\" style=\"stroke:#000000;stroke-width:0.8;\"/>\n      </defs>\n      <g>\n       <use style=\"stroke:#000000;stroke-width:0.8;\" x=\"39.65\" xlink:href=\"#mcc2512ee7d\" y=\"219.690339\"/>\n      </g>\n     </g>\n     <g id=\"text_7\">\n      <!-- 6000 -->\n      <defs>\n       <path d=\"M 33.015625 40.375 \nQ 26.375 40.375 22.484375 35.828125 \nQ 18.609375 31.296875 18.609375 23.390625 \nQ 18.609375 15.53125 22.484375 10.953125 \nQ 26.375 6.390625 33.015625 6.390625 \nQ 39.65625 6.390625 43.53125 10.953125 \nQ 47.40625 15.53125 47.40625 23.390625 \nQ 47.40625 31.296875 43.53125 35.828125 \nQ 39.65625 40.375 33.015625 40.375 \nz\nM 52.59375 71.296875 \nL 52.59375 62.3125 \nQ 48.875 64.0625 45.09375 64.984375 \nQ 41.3125 65.921875 37.59375 65.921875 \nQ 27.828125 65.921875 22.671875 59.328125 \nQ 17.53125 52.734375 16.796875 39.40625 \nQ 19.671875 43.65625 24.015625 45.921875 \nQ 28.375 48.1875 33.59375 48.1875 \nQ 44.578125 48.1875 50.953125 41.515625 \nQ 57.328125 34.859375 57.328125 23.390625 \nQ 57.328125 12.15625 50.6875 5.359375 \nQ 44.046875 -1.421875 33.015625 -1.421875 \nQ 20.359375 -1.421875 13.671875 8.265625 \nQ 6.984375 17.96875 6.984375 36.375 \nQ 6.984375 53.65625 15.1875 63.9375 \nQ 23.390625 74.21875 37.203125 74.21875 \nQ 40.921875 74.21875 44.703125 73.484375 \nQ 48.484375 72.75 52.59375 71.296875 \nz\n\" id=\"DejaVuSans-54\"/>\n      </defs>\n      <g transform=\"translate(7.2 223.489558)scale(0.1 -0.1)\">\n       <use xlink:href=\"#DejaVuSans-54\"/>\n       <use x=\"63.623047\" xlink:href=\"#DejaVuSans-48\"/>\n       <use x=\"127.246094\" xlink:href=\"#DejaVuSans-48\"/>\n       <use x=\"190.869141\" xlink:href=\"#DejaVuSans-48\"/>\n      </g>\n     </g>\n    </g>\n    <g id=\"ytick_2\">\n     <g id=\"line2d_8\">\n      <g>\n       <use style=\"stroke:#000000;stroke-width:0.8;\" x=\"39.65\" xlink:href=\"#mcc2512ee7d\" y=\"182.833946\"/>\n      </g>\n     </g>\n     <g id=\"text_8\">\n      <!-- 6500 -->\n      <g transform=\"translate(7.2 186.633164)scale(0.1 -0.1)\">\n       <use xlink:href=\"#DejaVuSans-54\"/>\n       <use x=\"63.623047\" xlink:href=\"#DejaVuSans-53\"/>\n       <use x=\"127.246094\" xlink:href=\"#DejaVuSans-48\"/>\n       <use x=\"190.869141\" xlink:href=\"#DejaVuSans-48\"/>\n      </g>\n     </g>\n    </g>\n    <g id=\"ytick_3\">\n     <g id=\"line2d_9\">\n      <g>\n       <use style=\"stroke:#000000;stroke-width:0.8;\" x=\"39.65\" xlink:href=\"#mcc2512ee7d\" y=\"145.977552\"/>\n      </g>\n     </g>\n     <g id=\"text_9\">\n      <!-- 7000 -->\n      <defs>\n       <path d=\"M 8.203125 72.90625 \nL 55.078125 72.90625 \nL 55.078125 68.703125 \nL 28.609375 0 \nL 18.3125 0 \nL 43.21875 64.59375 \nL 8.203125 64.59375 \nz\n\" id=\"DejaVuSans-55\"/>\n      </defs>\n      <g transform=\"translate(7.2 149.776771)scale(0.1 -0.1)\">\n       <use xlink:href=\"#DejaVuSans-55\"/>\n       <use x=\"63.623047\" xlink:href=\"#DejaVuSans-48\"/>\n       <use x=\"127.246094\" xlink:href=\"#DejaVuSans-48\"/>\n       <use x=\"190.869141\" xlink:href=\"#DejaVuSans-48\"/>\n      </g>\n     </g>\n    </g>\n    <g id=\"ytick_4\">\n     <g id=\"line2d_10\">\n      <g>\n       <use style=\"stroke:#000000;stroke-width:0.8;\" x=\"39.65\" xlink:href=\"#mcc2512ee7d\" y=\"109.121158\"/>\n      </g>\n     </g>\n     <g id=\"text_10\">\n      <!-- 7500 -->\n      <g transform=\"translate(7.2 112.920377)scale(0.1 -0.1)\">\n       <use xlink:href=\"#DejaVuSans-55\"/>\n       <use x=\"63.623047\" xlink:href=\"#DejaVuSans-53\"/>\n       <use x=\"127.246094\" xlink:href=\"#DejaVuSans-48\"/>\n       <use x=\"190.869141\" xlink:href=\"#DejaVuSans-48\"/>\n      </g>\n     </g>\n    </g>\n    <g id=\"ytick_5\">\n     <g id=\"line2d_11\">\n      <g>\n       <use style=\"stroke:#000000;stroke-width:0.8;\" x=\"39.65\" xlink:href=\"#mcc2512ee7d\" y=\"72.264764\"/>\n      </g>\n     </g>\n     <g id=\"text_11\">\n      <!-- 8000 -->\n      <defs>\n       <path d=\"M 31.78125 34.625 \nQ 24.75 34.625 20.71875 30.859375 \nQ 16.703125 27.09375 16.703125 20.515625 \nQ 16.703125 13.921875 20.71875 10.15625 \nQ 24.75 6.390625 31.78125 6.390625 \nQ 38.8125 6.390625 42.859375 10.171875 \nQ 46.921875 13.96875 46.921875 20.515625 \nQ 46.921875 27.09375 42.890625 30.859375 \nQ 38.875 34.625 31.78125 34.625 \nz\nM 21.921875 38.8125 \nQ 15.578125 40.375 12.03125 44.71875 \nQ 8.5 49.078125 8.5 55.328125 \nQ 8.5 64.0625 14.71875 69.140625 \nQ 20.953125 74.21875 31.78125 74.21875 \nQ 42.671875 74.21875 48.875 69.140625 \nQ 55.078125 64.0625 55.078125 55.328125 \nQ 55.078125 49.078125 51.53125 44.71875 \nQ 48 40.375 41.703125 38.8125 \nQ 48.828125 37.15625 52.796875 32.3125 \nQ 56.78125 27.484375 56.78125 20.515625 \nQ 56.78125 9.90625 50.3125 4.234375 \nQ 43.84375 -1.421875 31.78125 -1.421875 \nQ 19.734375 -1.421875 13.25 4.234375 \nQ 6.78125 9.90625 6.78125 20.515625 \nQ 6.78125 27.484375 10.78125 32.3125 \nQ 14.796875 37.15625 21.921875 38.8125 \nz\nM 18.3125 54.390625 \nQ 18.3125 48.734375 21.84375 45.5625 \nQ 25.390625 42.390625 31.78125 42.390625 \nQ 38.140625 42.390625 41.71875 45.5625 \nQ 45.3125 48.734375 45.3125 54.390625 \nQ 45.3125 60.0625 41.71875 63.234375 \nQ 38.140625 66.40625 31.78125 66.40625 \nQ 25.390625 66.40625 21.84375 63.234375 \nQ 18.3125 60.0625 18.3125 54.390625 \nz\n\" id=\"DejaVuSans-56\"/>\n      </defs>\n      <g transform=\"translate(7.2 76.063983)scale(0.1 -0.1)\">\n       <use xlink:href=\"#DejaVuSans-56\"/>\n       <use x=\"63.623047\" xlink:href=\"#DejaVuSans-48\"/>\n       <use x=\"127.246094\" xlink:href=\"#DejaVuSans-48\"/>\n       <use x=\"190.869141\" xlink:href=\"#DejaVuSans-48\"/>\n      </g>\n     </g>\n    </g>\n    <g id=\"ytick_6\">\n     <g id=\"line2d_12\">\n      <g>\n       <use style=\"stroke:#000000;stroke-width:0.8;\" x=\"39.65\" xlink:href=\"#mcc2512ee7d\" y=\"35.40837\"/>\n      </g>\n     </g>\n     <g id=\"text_12\">\n      <!-- 8500 -->\n      <g transform=\"translate(7.2 39.207589)scale(0.1 -0.1)\">\n       <use xlink:href=\"#DejaVuSans-56\"/>\n       <use x=\"63.623047\" xlink:href=\"#DejaVuSans-53\"/>\n       <use x=\"127.246094\" xlink:href=\"#DejaVuSans-48\"/>\n       <use x=\"190.869141\" xlink:href=\"#DejaVuSans-48\"/>\n      </g>\n     </g>\n    </g>\n   </g>\n   <g id=\"line2d_13\">\n    <path clip-path=\"url(#pefa9587a85)\" d=\"M 54.868182 214.756364 \nL 61.209091 129.272846 \nL 67.55 92.802195 \nL 73.890909 62.959115 \nL 80.231818 122.462719 \nL 86.572727 194.421012 \nL 92.913636 181.449267 \nL 99.254545 164.234625 \nL 105.595455 96.229242 \nL 111.936364 107.31514 \nL 118.277273 117.132473 \nL 124.618182 134.08494 \nL 130.959091 132.431586 \nL 137.3 96.275012 \nL 143.640909 95.014329 \nL 149.981818 108.274012 \nL 156.322727 131.080426 \nL 162.663636 141.409348 \nL 169.004545 152.85152 \nL 175.345455 191.137989 \nL 181.686364 196.527141 \nL 188.027273 198.080299 \nL 194.368182 195.895106 \nL 200.709091 200.533651 \nL 207.05 187.596985 \nL 213.390909 187.354018 \nL 219.731818 187.936882 \nL 226.072727 179.262428 \nL 232.413636 175.277285 \nL 238.754545 166.082705 \nL 245.095455 149.686385 \nL 251.436364 136.482638 \nL 257.777273 126.226856 \nL 264.118182 114.931217 \nL 270.459091 113.285788 \nL 276.8 107.005587 \nL 283.140909 94.009793 \nL 289.481818 81.301751 \nL 295.822727 69.70729 \nL 302.163636 81.87337 \nL 308.504545 73.286362 \nL 314.845455 63.125454 \nL 321.186364 57.572078 \nL 327.527273 49.816736 \nL 333.868182 31.722342 \nL 340.209091 33.79073 \nL 346.55 29.356918 \nL 352.890909 26.177436 \nL 359.231818 17.083636 \n\" style=\"fill:none;stroke:#1f77b4;stroke-linecap:square;stroke-width:1.5;\"/>\n   </g>\n   <g id=\"patch_3\">\n    <path d=\"M 39.65 224.64 \nL 39.65 7.2 \n\" style=\"fill:none;stroke:#000000;stroke-linecap:square;stroke-linejoin:miter;stroke-width:0.8;\"/>\n   </g>\n   <g id=\"patch_4\">\n    <path d=\"M 374.45 224.64 \nL 374.45 7.2 \n\" style=\"fill:none;stroke:#000000;stroke-linecap:square;stroke-linejoin:miter;stroke-width:0.8;\"/>\n   </g>\n   <g id=\"patch_5\">\n    <path d=\"M 39.65 224.64 \nL 374.45 224.64 \n\" style=\"fill:none;stroke:#000000;stroke-linecap:square;stroke-linejoin:miter;stroke-width:0.8;\"/>\n   </g>\n   <g id=\"patch_6\">\n    <path d=\"M 39.65 7.2 \nL 374.45 7.2 \n\" style=\"fill:none;stroke:#000000;stroke-linecap:square;stroke-linejoin:miter;stroke-width:0.8;\"/>\n   </g>\n  </g>\n </g>\n <defs>\n  <clipPath id=\"pefa9587a85\">\n   <rect height=\"217.44\" width=\"334.8\" x=\"39.65\" y=\"7.2\"/>\n  </clipPath>\n </defs>\n</svg>\n",
      "image/png": "[encoded data removed]"
     },
     "metadata": {
      "needs_background": "light"
     }
    }
   ],
   "metadata": {}
  },
  {
   "cell_type": "code",
   "execution_count": 375,
   "source": [
    "print(\"Optimal K is\",k_min_loss, \"and min_loss for that k is\",min_loss)"
   ],
   "outputs": [
    {
     "output_type": "stream",
     "name": "stdout",
     "text": [
      "Optimal K is 1 and min_loss for that k is 6066.935140579632\n"
     ]
    }
   ],
   "metadata": {}
  },
  {
   "cell_type": "markdown",
   "source": [
    "Question 2"
   ],
   "metadata": {}
  },
  {
   "cell_type": "code",
   "execution_count": 378,
   "source": [
    "import pandas as pd\n",
    "import numpy as np\n",
    "from numpy import linalg as lin\n",
    "from matplotlib import pyplot as plt"
   ],
   "outputs": [],
   "metadata": {}
  },
  {
   "cell_type": "code",
   "execution_count": 379,
   "source": [
    "cols_names = ['age', 'workclass', 'fnlwgt', 'education', 'education-num', 'marital-status', 'occupation', 'relationship', 'race', 'sex', 'capital-gain', 'capital-loss', 'hours-per-week', 'native-country', 'income']"
   ],
   "outputs": [],
   "metadata": {}
  },
  {
   "cell_type": "code",
   "execution_count": 380,
   "source": [
    "#data is seperated by ', ', therefore it should be split by that\n",
    "data = pd.read_csv('adult.data', sep='\\,\\ ', names=cols_names)\n",
    "\n",
    "#replacing ? with NaN and droping the rows containg '?'\n",
    "data.replace('?', np.nan, inplace=True)\n",
    "data.dropna(inplace = True)"
   ],
   "outputs": [
    {
     "output_type": "stream",
     "name": "stderr",
     "text": [
      "<ipython-input-380-13a664a44684>:2: ParserWarning: Falling back to the 'python' engine because the 'c' engine does not support regex separators (separators > 1 char and different from '\\s+' are interpreted as regex); you can avoid this warning by specifying engine='python'.\n",
      "  data = pd.read_csv('adult.data', sep='\\,\\ ', names=cols_names)\n"
     ]
    }
   ],
   "metadata": {}
  },
  {
   "cell_type": "code",
   "execution_count": 381,
   "source": [
    "#defining nominal/categorical columns\n",
    "nominal_cols = ['workclass', 'education', 'marital-status', 'occupation', 'relationship', 'race', 'sex', 'native-country']\n",
    "for col in nominal_cols:\n",
    "    data[col] = data[col].astype('category').cat.codes"
   ],
   "outputs": [],
   "metadata": {}
  },
  {
   "cell_type": "code",
   "execution_count": 382,
   "source": [
    "#classifying final label into 1 and -1\n",
    "data['income'].replace('<=50K', -1, inplace=True)\n",
    "data['income'].replace('>50K', 1, inplace=True)"
   ],
   "outputs": [],
   "metadata": {}
  },
  {
   "cell_type": "code",
   "execution_count": 383,
   "source": [
    "#shuffling the data\n",
    "shuffled_data = data.sample(frac = 1, random_state=1)"
   ],
   "outputs": [],
   "metadata": {}
  },
  {
   "cell_type": "code",
   "execution_count": 384,
   "source": [
    "#splitting the data into training and test data\n",
    "training_size = (int)(0.8*len(data))\n",
    "train_data = shuffled_data[0:training_size].reset_index()\n",
    "test_data = shuffled_data[training_size:].reset_index()\n",
    "\n",
    "train_data = train_data.drop('index', axis = 1)\n",
    "test_data = test_data.drop('index', axis = 1)\n",
    "\n",
    "# train_data\n"
   ],
   "outputs": [],
   "metadata": {}
  },
  {
   "cell_type": "code",
   "execution_count": 385,
   "source": [
    "#splitting the dataset into X and Y\n",
    "X_train = train_data.drop('income', axis = 1)\n",
    "Y_train = train_data['income']\n",
    "X_test = test_data.drop('income', axis = 1)\n",
    "Y_test = test_data['income']"
   ],
   "outputs": [],
   "metadata": {}
  },
  {
   "cell_type": "code",
   "execution_count": 386,
   "source": [
    "class Node:\n",
    "    # A node stores its own depth (root = depth 0), its decision stump, its parent and child information\n",
    "    # Leaf nodes also store a constant label that is assigned to every data point that reaches that leaf\n",
    "    def __init__( self, depth = 0, stump = (0,0), parent = None ):\n",
    "        self.depth = depth\n",
    "        self.stump = stump\n",
    "        self.parent = parent\n",
    "        self.left = None\n",
    "        self.right = None\n",
    "        self.isLeaf = True\n",
    "        self.label = 0\n",
    "        \n",
    "    def predict( self, data ):\n",
    "        # If I am a leaf I can predict rightaway\n",
    "        # May change this constant leaf action to something more interesting and powerful\n",
    "        if self.isLeaf:\n",
    "            return self.label\n",
    "        # Else I have to ask one of my children to do the job\n",
    "        else:\n",
    "            if data[self.stump[0]] > self.stump[1]:\n",
    "                return self.right.predict( data )\n",
    "            else:\n",
    "                return self.left.predict( data )\n",
    "    \n",
    "    #entropy calculation function\n",
    "    def getEntropy(self, nPos, nNeg):\n",
    "        if nPos == 0 or nNeg == 0:\n",
    "            return 0\n",
    "        nTot = nPos + nNeg\n",
    "        pPos = nPos / nTot\n",
    "        pNeg = nNeg / nTot\n",
    "        return -(pPos * float(np.log2(pPos)) + pNeg * float(np.log2(pNeg)))\n",
    "            \n",
    "    def getStump( self, X, y ):\n",
    "        # How many data points do I have at this node?\n",
    "        n = y.size\n",
    "        nPos = (y == 1).sum()\n",
    "        nNeg = (y == -1).sum()\n",
    "        bestObjective = -float('inf')\n",
    "        \n",
    "        # For each of the features in the data\n",
    "        for i in range( X.shape[1] ):\n",
    "            # Do not use the same feature as used by the parent node\n",
    "            if self.parent is not None and i == self.parent.stump[0]:\n",
    "                continue\n",
    "            # Find out all values at which we can threshold that feature\n",
    "            candidateThresholds = np.sort( X[:, i] )\n",
    "            idx = np.argsort( X[:, i] )\n",
    "            # The cumulative sum trick used here will work only if labels are binary \n",
    "            ySorted = y[idx]\n",
    "            yCum = np.cumsum( ySorted )\n",
    "            yCumRev = np.cumsum( ySorted[::-1] )[::-1]\n",
    "            # For each possible threshold (except the ones at the extreme)\n",
    "            for j in range( 1, candidateThresholds.size-1 ):\n",
    "                candidateObjective = self.getEntropy(nPos, nNeg) \\\n",
    "                                    - ((j + 1) / n) * self.getEntropy( (yCum[j] + j+1)/2, (j+1 - yCum[j])/2 ) \\\n",
    "                                    - ((n - j - 1) / n) * self.getEntropy( (yCumRev[j+1] + n-j-1)/2, (n-j-1 - yCumRev[j+1])/2 )\n",
    "                if candidateObjective > bestObjective:\n",
    "                    bestObjective = candidateObjective\n",
    "                    bestFeat = i\n",
    "                    bestThresh = candidateThresholds[j]\n",
    "        \n",
    "        # # Can try LwP decision stump as well\n",
    "        # bestThresh = (np.mean(X[y > 0, bestFeat]) + np.mean(X[y < 0, bestFeat]))/2\n",
    "        return (bestFeat, bestThresh)\n",
    "            \n",
    "    def train( self, X, y, maxLeafSize, maxDepth ):\n",
    "        # If too few data points are present, or else if this node is too deep in the tree, make this a leaf\n",
    "        if y.size < maxLeafSize or self.depth >= maxDepth:\n",
    "            self.isLeaf = True\n",
    "            self.label = 1 if y.sum() >= 0 else -1\n",
    "        else:\n",
    "            # This node will be split and hence it is not a leaf\n",
    "            self.isLeaf = False\n",
    "            # Get the best possible decision stump\n",
    "            self.stump = self.getStump( X, y )\n",
    "            self.left = Node( depth = self.depth + 1, parent = self )\n",
    "            self.right = Node( depth = self.depth + 1, parent = self )\n",
    "            # Find which points go to my left child and which go to my right child\n",
    "            discriminant = X[:, self.stump[0]] - self.stump[1]\n",
    "            # Train my two children recursively\n",
    "            self.left.train( X[discriminant <= 0, :], y[discriminant <= 0], maxLeafSize, maxDepth )\n",
    "            self.right.train( X[discriminant > 0, :], y[discriminant > 0], maxLeafSize, maxDepth )\n",
    "\n",
    "\n",
    "class Tree:\n",
    "    def __init__( self, maxLeafSize = 10, maxDepth = 5 ):\n",
    "        self.root = Node()\n",
    "        self.maxLeafSize = maxLeafSize\n",
    "        self.maxDepth = maxDepth \n",
    "        \n",
    "    def predict( self, xt ):\n",
    "        return self.root.predict(xt)\n",
    "    \n",
    "    def train( self, X, y ):\n",
    "        self.root.train( X, y, self.maxLeafSize, self.maxDepth )\n"
   ],
   "outputs": [],
   "metadata": {}
  },
  {
   "cell_type": "code",
   "execution_count": 387,
   "source": [
    "#defining tree and training it\n",
    "DT = Tree()\n",
    "\n",
    "DT.train(np.array(X_train), np.array(Y_train))"
   ],
   "outputs": [],
   "metadata": {}
  },
  {
   "cell_type": "code",
   "execution_count": 388,
   "source": [
    "# Y_pred givves the predicted data value\n",
    "Y_pred = X_test.apply(DT.predict, axis = 1)\n"
   ],
   "outputs": [],
   "metadata": {}
  },
  {
   "cell_type": "code",
   "execution_count": 389,
   "source": [
    "#comp_arr contains 1 if predicted_value == actual value and 0 otherwise\n",
    "comp_arr = (Y_pred == Y_test)\n",
    "\n",
    "accuracy = (comp_arr.sum()/len(comp_arr))*100\n",
    "accuracy"
   ],
   "outputs": [
    {
     "output_type": "execute_result",
     "data": {
      "text/plain": [
       "83.04326205867727"
      ]
     },
     "metadata": {},
     "execution_count": 389
    }
   ],
   "metadata": {}
  },
  {
   "cell_type": "code",
   "execution_count": 395,
   "source": [
    "def test_with_params(maxLeafSize, maxDepth):\n",
    "    new_tree = Tree(maxLeafSize, maxDepth)\n",
    "    new_tree.train(np.array(X_train), np.array(Y_train))\n",
    "    y_pred = X_test.apply(new_tree.predict, axis=1)\n",
    "    accuracy = (y_pred == Y_test).sum() / len(Y_test) * 100\n",
    "    print(f'For max leaf size = {maxLeafSize} and max depth = {maxDepth}, accuracy = {round(accuracy, 2)}%')\n",
    "    return accuracy"
   ],
   "outputs": [],
   "metadata": {}
  },
  {
   "cell_type": "code",
   "execution_count": 398,
   "source": [
    "#testing for different params\n",
    "max_accuracy = 0\n",
    "for maxDepth in range(1, 8):\n",
    "    for maxLeafSize in range(5, 15, 5):\n",
    "        accuracy = test_with_params(maxLeafSize, maxDepth)\n",
    "        max_accuracy = max(accuracy, max_accuracy)"
   ],
   "outputs": [
    {
     "output_type": "stream",
     "name": "stdout",
     "text": [
      "For max leaf size = 5 and max depth = 1, accuracy = 74.34%\n",
      "For max leaf size = 10 and max depth = 1, accuracy = 74.34%\n",
      "For max leaf size = 5 and max depth = 2, accuracy = 78.2%\n",
      "For max leaf size = 10 and max depth = 2, accuracy = 78.2%\n",
      "For max leaf size = 5 and max depth = 3, accuracy = 78.24%\n",
      "For max leaf size = 10 and max depth = 3, accuracy = 78.24%\n",
      "For max leaf size = 5 and max depth = 4, accuracy = 78.7%\n",
      "For max leaf size = 10 and max depth = 4, accuracy = 78.7%\n",
      "For max leaf size = 5 and max depth = 5, accuracy = 83.04%\n",
      "For max leaf size = 10 and max depth = 5, accuracy = 83.04%\n",
      "For max leaf size = 5 and max depth = 6, accuracy = 82.91%\n",
      "For max leaf size = 10 and max depth = 6, accuracy = 82.89%\n",
      "For max leaf size = 5 and max depth = 7, accuracy = 83.69%\n",
      "For max leaf size = 10 and max depth = 7, accuracy = 83.67%\n"
     ]
    }
   ],
   "metadata": {}
  },
  {
   "cell_type": "code",
   "execution_count": 399,
   "source": [
    "print(\"Maximum accuracy is \", max_accuracy)"
   ],
   "outputs": [
    {
     "output_type": "stream",
     "name": "stdout",
     "text": [
      "Maximum accuracy is  83.68970661362506\n"
     ]
    }
   ],
   "metadata": {}
  }
 ],
 "metadata": {
  "orig_nbformat": 4,
  "language_info": {
   "name": "python",
   "version": "3.8.10",
   "mimetype": "text/x-python",
   "codemirror_mode": {
    "name": "ipython",
    "version": 3
   },
   "pygments_lexer": "ipython3",
   "nbconvert_exporter": "python",
   "file_extension": ".py"
  },
  "kernelspec": {
   "name": "python3",
   "display_name": "Python 3.8.10 64-bit"
  },
  "interpreter": {
   "hash": "916dbcbb3f70747c44a77c7bcd40155683ae19c65e1c03b4aa3499c5328201f1"
  }
 },
 "nbformat": 4,
 "nbformat_minor": 2
}